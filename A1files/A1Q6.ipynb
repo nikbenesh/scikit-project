{
 "cells": [
  {
   "cell_type": "markdown",
   "metadata": {},
   "source": [
    "# CMPT 423/820 \n",
    "## Assignment 1 Question 6\n",
    "* Your Name\n",
    "* Your student number \n",
    "* Your NSID"
   ]
  },
  {
   "cell_type": "markdown",
   "metadata": {},
   "source": [
    "In this question, we'll get do more with Pandas DataFrames, methods, indexing.  We'll also introduce the Seaborn package."
   ]
  },
  {
   "cell_type": "code",
   "execution_count": 1,
   "metadata": {
    "scrolled": true
   },
   "outputs": [],
   "source": [
    "# this is the conventional import \n",
    "import pandas as pd\n",
    "import matplotlib.pyplot as plt\n",
    "import seaborn as sns"
   ]
  },
  {
   "cell_type": "markdown",
   "metadata": {},
   "source": [
    "### Task 1\n",
    "Use Pandas function `read_csv()` to load the `iris.cvs` dataset."
   ]
  },
  {
   "cell_type": "code",
   "execution_count": 2,
   "metadata": {
    "scrolled": true
   },
   "outputs": [],
   "source": [
    "# your work here"
   ]
  },
  {
   "cell_type": "markdown",
   "metadata": {},
   "source": [
    "### Task 2\n",
    "There's a method called `density()` that uses MatPlotLib to create a slightly different kind of histogram (recall Question 6).  Behind the scenes, it's applying a statistical method called *density estimation* to create the plot; density estimation is something we will see more of in the course.  Pandas calls functions in MatPlotLib to create the plot; you could use MatPlotLib to enhance the plot, adding a title, or axis labels, etc.  No, not today.  When you need to impress someone with a good graphic.\n",
    "\n",
    "In the cell below, use the `density()` method to display a plot for the dataframe.  \n",
    "\n",
    "**Hint:** Jupyter is aware of Pandas and MatPlotLib, and by default, Jupyter can display any plot if the command to create it is the last thing in a cell.  But it is common to call MatPlotLib function `plt.show()` if you want to force a plot to be shown.  "
   ]
  },
  {
   "cell_type": "code",
   "execution_count": 3,
   "metadata": {
    "scrolled": true
   },
   "outputs": [],
   "source": [
    "# your work here"
   ]
  },
  {
   "cell_type": "markdown",
   "metadata": {},
   "source": [
    "### Task 3\n",
    "The density plots from Task 2 are visualizations of the distribution of the four columns of data.  It's a visualization of the whole data set, i.e., all of the classes mixed together.  It would be interesting to see how the distributions differ, if each class is visualized separately. \n",
    " \n",
    "1. Using Pandas create 3 new DataFrames, by separating the data into three subsets: \n",
    "   * all the rows for `versicolor`\n",
    "   * all the rows for `setosa`\n",
    "   * all the rows for `virginica`\n",
    "\n",
    "   Do this using Boolean array indexing; this technique works in Numpy, and Pandas.  \n",
    "\n",
    "2. Then plot the density for each subset individually, using `density()` as above.\n",
    "\n",
    "**Hint:** This task is not hard, but it's mostly a job of imagining what you need to do, and then finding an appropriate Pandas tool (or tools) to do it.  Yes, of course, use Google!  Then apply what you find.  Pandas is a useful tool that you will learn as you go.  There will be no tests or exams asking you to recite Pandas knowledge!\n",
    "<pre>\n",
    "sub1 = < expression to select all the rows whose label is 'versicolor' >\n",
    "...\n",
    "</pre>\n",
    "Use Boolean array indexing to select the rows you want in your new dataframe."
   ]
  },
  {
   "cell_type": "code",
   "execution_count": 4,
   "metadata": {},
   "outputs": [],
   "source": [
    "# your work here"
   ]
  },
  {
   "cell_type": "markdown",
   "metadata": {},
   "source": [
    "### Task 4\n",
    "In the above plots, the four numerical columns are visualized for each separate species.  We see columns 1-4 for each species.\n",
    "\n",
    "It might be more useful to plot the density for $X_1$ for all three species in a single plot, to compare more easily the differences in the distribution of that column for a single species.\n",
    "\n",
    "In the cell below, plot the density of $X_1$ for all three labels.  Then do similar plots for the other 3 numerical columns.\n",
    "\n",
    "**Hint:**  There are many ways you could do this.  This exercise is to familiarize you with Pandas, and there's no single answer that the marker is looking for.  Remember to use Boolean array indexing!  One useful Pandas method is called `concat()`.  Also, you'll want to create dataframes with the data you want to visualize, using `density()`."
   ]
  },
  {
   "cell_type": "code",
   "execution_count": 5,
   "metadata": {},
   "outputs": [],
   "source": [
    "# your work here"
   ]
  },
  {
   "cell_type": "markdown",
   "metadata": {},
   "source": [
    "### Task 5\n",
    "Task 4 was a lot of work.  Let's use Seaborn's `pairplot()` to visualize the data.  \n",
    "\n",
    "**Hint:** Explore the Seaborn documentation, and see if you can get density graphs to appear on the diagonal.  "
   ]
  },
  {
   "cell_type": "code",
   "execution_count": 6,
   "metadata": {
    "scrolled": true
   },
   "outputs": [],
   "source": [
    "# your work here"
   ]
  },
  {
   "cell_type": "markdown",
   "metadata": {},
   "source": [
    "### Task 6\n",
    "Explain what you see in the visualization from Task 5.  Make a few comments about the different kinds of plots, and any general trends or patterns you can see.  This is not a test!  I just want you to see what the visualization might say.  \n",
    "> Your answer here"
   ]
  },
  {
   "cell_type": "markdown",
   "metadata": {},
   "source": [
    "### What to hand in\n",
    "Your version of this notebook named A1Q6.pdf, containing completed work above, and your name and student number at the top."
   ]
  },
  {
   "cell_type": "markdown",
   "metadata": {},
   "source": [
    "### Evaluation:\n",
    "* 1 mark.  For Task 1, you used `read_csv()` to load a datafile into the notebook.\n",
    "* 1 mark.  For Task 2, you used `density()` to display density estimation plots for the dataframe.\n",
    "* 3 marks.  For Task 3, you used Boolean array indexing to create separate DataFrames (one for each label value) and then used `density()` to display density estimation for each dataframe.  \n",
    "* 4 marks.  For Task 4, you plotted the density estimation for each of the columns in the original DataFrame, and you have 3 densities allowing you to compare the distribution for each label in one plot.  You have 4 such plots.\n",
    "* 1 mark.  For Task 5, you used Seaborn's `pairplot()` to display visualization of the original dataframe.  \n",
    "* 2 marks.  For Task 6, you commented on the two kinds of plots, and what they represent.  You also made some observations about some patterns in the data."
   ]
  }
 ],
 "metadata": {
  "kernelspec": {
   "display_name": "Python 3 (ipykernel)",
   "language": "python",
   "name": "python3"
  },
  "language_info": {
   "codemirror_mode": {
    "name": "ipython",
    "version": 3
   },
   "file_extension": ".py",
   "mimetype": "text/x-python",
   "name": "python",
   "nbconvert_exporter": "python",
   "pygments_lexer": "ipython3",
   "version": "3.9.5"
  }
 },
 "nbformat": 4,
 "nbformat_minor": 4
}

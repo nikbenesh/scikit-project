{
 "cells": [
  {
   "cell_type": "markdown",
   "metadata": {},
   "source": [
    "# CMPT 423/820 \n",
    "## Assignment 1 Question 3\n",
    "* Your Name\n",
    "* Your student number \n",
    "* Your NSID"
   ]
  },
  {
   "cell_type": "markdown",
   "metadata": {},
   "source": [
    "In this question, we'll introduce Numpy, a very powerful and popular Python module for numerical computation.\n",
    "\n",
    "Numpy adds a very fast, very flexible data structure called NDArray to our tool-box.  A NDArray stores numerical data much more efficiently than Python lists, and its methods are optimized for array-level tasks.  The powerful thing about Numpy is that you can express array-level calculations with simple algebraic expressions, and usually without loops.  The Numpy module also provides very useful libraries for array-based and matric-based computations."
   ]
  },
  {
   "cell_type": "code",
   "execution_count": 1,
   "metadata": {},
   "outputs": [],
   "source": [
    "# almost always imported like this\n",
    "import numpy as np"
   ]
  },
  {
   "cell_type": "markdown",
   "metadata": {},
   "source": [
    "### Task 1 \n",
    "The Numpy module includes libraries for numerical calculations.  There are array-based calculations, and matrix-based calculations.  For example, the cell below defines a small $2\\times2$ array, and then does two kinds of multiplication."
   ]
  },
  {
   "cell_type": "code",
   "execution_count": 2,
   "metadata": {},
   "outputs": [
    {
     "name": "stdout",
     "output_type": "stream",
     "text": [
      "[[ 2  8]\n",
      " [18 32]]\n",
      "[[14 20]\n",
      " [30 44]]\n"
     ]
    }
   ],
   "source": [
    "# a small array\n",
    "twobytwo = np.array([[1, 2], [3, 4]])\n",
    "\n",
    "# array-based \n",
    "array_product = 2 * twobytwo * twobytwo\n",
    "\n",
    "# matrix-based\n",
    "matrix_product = 2 * np.matmul(twobytwo, twobytwo)\n",
    "\n",
    "# print them both\n",
    "print(array_product)\n",
    "print(matrix_product)"
   ]
  },
  {
   "cell_type": "markdown",
   "metadata": {},
   "source": [
    "#### Task 1 Questions\n",
    "Answer the questions below.  If you know that answer, that's great.  If not, go look it up somewhere.  These are details that trip people up, so it's good to practice looking up stuff like this.  Put your answer in your own words, of course!\n",
    "\n",
    "1. (Easy) Explain the difference between the two products.\n",
    "> Your answer here\n",
    "\n",
    "2. (Deeper) Python uses the multiplication operator `*` for normal Python numbers, but here we see it being used for NDArrays.  How does Python know which kind of multiplication to do?\n",
    "> Your answer here"
   ]
  },
  {
   "cell_type": "markdown",
   "metadata": {},
   "source": [
    "### Task 2.  Scripts using NDArrays\n",
    "Here's a cute little result.  It turns out you can calculate Fibonacci numbers using matrix multiplication.  Suppose we want the Nth Fibonacci Number, $F_N$:\n",
    "\n",
    "$$ \n",
    "\\left(\n",
    "\\begin{array}{c}\n",
    "F_{N+1} \\\\\n",
    "F_N \\\\\n",
    "\\end{array}\\right) = \n",
    "\\left(\n",
    "\\begin{array}{cc}\n",
    "1 & 1 \\\\\n",
    "1 & 0 \\\\\n",
    "\\end{array}\\right)^N \n",
    "\\left(\n",
    "\\begin{array}{c}\n",
    "1 \\\\\n",
    "0 \\\\\n",
    "\\end{array}\\right)\n",
    "$$\n",
    "In other words, we multiply a 2x2 matrix by itself $N$ times, and the required Fibonacci numbers are part of the resulting matrix!\n",
    "\n",
    "#### Task 2 Questions. \n",
    "1. Write a few lines of Python, using NDArrays, Numpy, and matrix multiplication to calculate $F_{30}$ (which we saw in Question 2).  There's a cell below for this script.  It's only a few lines of code!\n",
    "2. In Question 2, we could calculate $F_N$ for very large N, and it would be exact.  Explain what happens if we try to do the same thing here.  Answer by discussing what your script produces for large N, and then explain why it's wrong.\n",
    "> Your answer here"
   ]
  },
  {
   "cell_type": "code",
   "execution_count": 4,
   "metadata": {},
   "outputs": [
    {
     "name": "stdout",
     "output_type": "stream",
     "text": [
      "The 30 th Fibonacci number is not yet calculated\n"
     ]
    }
   ],
   "source": [
    "# Your answer to Task 2 Part 1 here\n",
    "# A little code to get you started.  You don't have to use it!\n",
    "N = 30\n",
    "f_N = 'not yet calculated'\n",
    "\n",
    "\n",
    "# Very last step: display the output:\n",
    "print('The', N, 'th Fibonacci number is', f_N)"
   ]
  },
  {
   "cell_type": "markdown",
   "metadata": {},
   "source": [
    "### What to hand in\n",
    "Your version of this notebook named A1Q3.pdf, containing completed work above, and your name and student number at the top."
   ]
  },
  {
   "cell_type": "markdown",
   "metadata": {},
   "source": [
    "### Evaluation:\n",
    "* 1 mark: Your answer two Task 1 Part 1 was correct.\n",
    "* 2 marks: Your answer two Task 1 Part 2 was correct.\n",
    "* 4 marks: Your code cell for Task 2 Part uses Python and Numpy to calculate the 30th Fibonacci number correctly.\n",
    "* 3 marks: Your explanation for the behaviour of this script for large $N$ is correct."
   ]
  }
 ],
 "metadata": {
  "kernelspec": {
   "display_name": "Python 3",
   "language": "python",
   "name": "python3"
  },
  "language_info": {
   "codemirror_mode": {
    "name": "ipython",
    "version": 3
   },
   "file_extension": ".py",
   "mimetype": "text/x-python",
   "name": "python",
   "nbconvert_exporter": "python",
   "pygments_lexer": "ipython3",
   "version": "3.7.3"
  }
 },
 "nbformat": 4,
 "nbformat_minor": 2
}

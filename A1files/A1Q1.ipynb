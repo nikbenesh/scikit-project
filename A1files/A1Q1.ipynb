{
 "cells": [
  {
   "cell_type": "markdown",
   "metadata": {
    "slideshow": {
     "slide_type": "-"
    }
   },
   "source": [
    "# CMPT 423/820\n",
    "## Assignment 1 Question 1 \n",
    "* Your Name\n",
    "* Your student number\n",
    "* Your NSID"
   ]
  },
  {
   "cell_type": "markdown",
   "metadata": {},
   "source": [
    "### Ensuring your installation works correctly\n",
    "\n",
    "Open this document in Jupyter Notebook.   If you have opened this notebook, you should see a mixture of document and Python code. Near the bottoom of the document, you should see a plot of a red line and a blue line."
   ]
  },
  {
   "cell_type": "code",
   "execution_count": 1,
   "metadata": {},
   "outputs": [],
   "source": [
    "# As with a pure Python script, we can import modules.\n",
    "# This is a good one to know.\n",
    "\n",
    "import matplotlib.pyplot as plt"
   ]
  },
  {
   "cell_type": "markdown",
   "metadata": {},
   "source": [
    "A notebook intermingles document and code.  It's best to think of a notebook as a way of adding fancy internal documentation to a Python script (or other supported language).  If you are new to Jupyter Notebooks, be sure to figure out the difference between a code cell, as immediately above, and a markdown cell, which is this one.  \n",
    "\n",
    "This is a `markdown` cell, which means it converts text to formatted display.  The type of a cell can be determined by a drop down menu you can find near the top of this window.  Go look.  The Markdown language allows you a wide variety of formatting options.  Check the Help menu for a link to external Markdown reference websites. "
   ]
  },
  {
   "cell_type": "code",
   "execution_count": 2,
   "metadata": {},
   "outputs": [],
   "source": [
    "# This is a CODE cell.  \n",
    "# In this document, the code is Python, and all Python syntax rules apply.\n",
    "\n",
    "# Let's define a couple of variables using Python's List Comprehension notation\n",
    "\n",
    "xs = [i/10.0 for i in range(100)]\n",
    "ys = [x**2 + 3*x - 40 for x in xs]"
   ]
  },
  {
   "cell_type": "markdown",
   "metadata": {},
   "source": [
    "The command to plot data comes from the MatPlotLib library.  The `plot()` function adds the data to a figure.  In plain Python, nothing appears before the `show()` is called, but it turns out that Jupyter can render the figure even if you don't call `show()`.  "
   ]
  },
  {
   "cell_type": "code",
   "execution_count": 3,
   "metadata": {
    "scrolled": true
   },
   "outputs": [
    {
     "data": {
      "image/png": "[encoded data removed]",
      "text/plain": [
       "<Figure size 432x288 with 1 Axes>"
      ]
     },
     "metadata": {
      "needs_background": "light"
     },
     "output_type": "display_data"
    }
   ],
   "source": [
    "# plot has a side-effect: to add the given data to an unseen set of axes\n",
    "plt.plot(xs, xs, \"b-\")\n",
    "plt.plot(xs, ys, \"r-\")\n",
    "\n",
    "# Make the plot visible.\n",
    "plt.show()"
   ]
  },
  {
   "cell_type": "markdown",
   "metadata": {
    "slideshow": {
     "slide_type": "-"
    }
   },
   "source": [
    "### Editing CODE cells\n",
    "You can edit the code in any code cell, but for it to have an effect, you have to re-run the code.  The keyboard command for that depends on your machine, but on my Mac, it's Ctrl-Enter.  It's also available from the dropdown menu `Cell`, near the top of your window.\n",
    "\n",
    "Note: If you re-run a single cell, the effect is limited to the current cell.  You may rerun the whole notebook by finding an icon at the top of the window; the shape of the icon may be different depending on the computer you are using, but it may look like an arrow circling on itself, or a couple of triangles pointing to the right.  This is also available in the Kernel menu as `Restart and Run All`.  \n",
    "\n",
    "Note: If you ever change a module that you import, or if you want to see the effects of a change to the whole notebook, use the `Restart and Run All` button.  "
   ]
  },
  {
   "cell_type": "markdown",
   "metadata": {},
   "source": [
    "### Producing a document to hand in\n",
    "When using Jupyter Notebook, you'll want to keep a IPYN file.  However, grading these files is awkward, so we will grade PDF files only.  The best way to create a PDF is two steps:\n",
    "1. Using the Jupyter Menu: `File > Download as... > HTML`\n",
    "2. Open the downloaded HTML file with a Web-browser\n",
    "3. Save the HTML document as PDF.\n",
    "\n",
    "Jupyter does provide an option to download as PDF (via LaTeX) but this option is still too primitive; don't use it for submitting your work here."
   ]
  },
  {
   "cell_type": "markdown",
   "metadata": {},
   "source": [
    "# Task\n",
    "1. Open this document in Jupyter Notebook.\n",
    "2. Edit the first cell to add your name and student number\n",
    "3. Re-run the entire document.\n",
    "4. Following the instructions above, produce a document called A1Q1.pdf.\n",
    "5. Hand the document in on Moodle Assignment 1."
   ]
  },
  {
   "cell_type": "markdown",
   "metadata": {},
   "source": [
    "### What to hand in\n",
    "Your version of this notebook named A1Q1.pdf, containing your name and student number at the top."
   ]
  },
  {
   "cell_type": "markdown",
   "metadata": {},
   "source": [
    "### Evaluation:\n",
    "1 mark: Your version of this notebook is named A1Q1.pdf, and it contains your name and student number at the top."
   ]
  }
 ],
 "metadata": {
  "kernelspec": {
   "display_name": "Python 3",
   "language": "python",
   "name": "python3"
  },
  "language_info": {
   "codemirror_mode": {
    "name": "ipython",
    "version": 3
   },
   "file_extension": ".py",
   "mimetype": "text/x-python",
   "name": "python",
   "nbconvert_exporter": "python",
   "pygments_lexer": "ipython3",
   "version": "3.7.3"
  }
 },
 "nbformat": 4,
 "nbformat_minor": 2
}

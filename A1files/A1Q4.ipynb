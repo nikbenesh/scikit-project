{
 "cells": [
  {
   "cell_type": "markdown",
   "metadata": {},
   "source": [
    "#### CMPT 423/820 \n",
    "## Assignment 1 Question 5\n",
    "* Your Name\n",
    "* Your student number \n",
    "* Your NSID"
   ]
  },
  {
   "cell_type": "markdown",
   "metadata": {},
   "source": [
    "In this question, some basic work with MatPlotLib.  "
   ]
  },
  {
   "cell_type": "code",
   "execution_count": null,
   "metadata": {},
   "outputs": [],
   "source": [
    "# this is the conventional import \n",
    "import numpy as np\n",
    "import matplotlib.pyplot as plt"
   ]
  },
  {
   "cell_type": "markdown",
   "metadata": {},
   "source": [
    "### Data sets\n",
    "In the cell below, three data sets are generated using Numpy.  Make sure you understand what the code is doing!  "
   ]
  },
  {
   "cell_type": "code",
   "execution_count": 20,
   "metadata": {
    "scrolled": true
   },
   "outputs": [],
   "source": [
    "# x-coordinates\n",
    "xs = np.linspace(0.0, 4.0)\n",
    "\n",
    "# 3 sets of y-coordinates\n",
    "y1 = np.cos(2 * np.pi * xs) * np.exp(-xs)\n",
    "y2 = np.cos(2 * np.pi * xs)\n",
    "y3 = np.sin(3 * np.pi * xs)"
   ]
  },
  {
   "cell_type": "markdown",
   "metadata": {},
   "source": [
    "### Task 1\n",
    "Plot the three data sets (`xs vs y1`, `xs vs y2`, `xs vs y3`) on the same set of axes.  Make the plot look good, choosing colours, giving labels for horizontal and vertical axes, and a title.  Add a legend.  Marks will be deducted for careless presentation. "
   ]
  },
  {
   "cell_type": "code",
   "execution_count": null,
   "metadata": {},
   "outputs": [],
   "source": [
    "# your code here"
   ]
  },
  {
   "cell_type": "markdown",
   "metadata": {},
   "source": [
    "### Task 2\n",
    "Plot the three data sets (`xs vs y1`, `xs vs y2`, `xs vs y3`) on three independent axes, **horizontally** arranged.  Make the plots look good, choosing colours, giving labels for horizontal and vertical axes, and a title.  Marks will be deducted for careless presentation."
   ]
  },
  {
   "cell_type": "code",
   "execution_count": null,
   "metadata": {},
   "outputs": [],
   "source": [
    "# your code here"
   ]
  },
  {
   "cell_type": "markdown",
   "metadata": {},
   "source": [
    "### Task 3\n",
    "Plot the three data sets (`xs vs y1`, `xs vs y2`, `xs vs y3`) on three independent axes, **vertically** arranged.  Make the plots look good, choosing colours, giving labels for horizontal and vertical axes, and a title.  Marks will be deducted for careless presentation. "
   ]
  },
  {
   "cell_type": "code",
   "execution_count": null,
   "metadata": {},
   "outputs": [],
   "source": [
    "# your code here"
   ]
  },
  {
   "cell_type": "markdown",
   "metadata": {},
   "source": [
    "### What to hand in\n",
    "Your version of this notebook named A1Q4.pdf, containing completed work above, and your name and student number at the top."
   ]
  },
  {
   "cell_type": "markdown",
   "metadata": {},
   "source": [
    "### Evaluation:\n",
    "* 3 marks: Your plot for task 1 shows the 3 data sets on a single set of axes.  The plot has labels, a title, and a legend.  \n",
    "* 3 marks: Your plot for task 2 shows the 3 data sets on individual axes arranged horizontally.  The plots have labels, and there is a title.  It looks good.\n",
    "* 3 marks: Your plot for task 3 shows the 3 data sets on individual axes arranged vertically.  The plots have labels, and there is a title.  It looks good."
   ]
  }
 ],
 "metadata": {
  "kernelspec": {
   "display_name": "Python 3",
   "language": "python",
   "name": "python3"
  },
  "language_info": {
   "codemirror_mode": {
    "name": "ipython",
    "version": 3
   },
   "file_extension": ".py",
   "mimetype": "text/x-python",
   "name": "python",
   "nbconvert_exporter": "python",
   "pygments_lexer": "ipython3",
   "version": "3.7.3"
  }
 },
 "nbformat": 4,
 "nbformat_minor": 2
}

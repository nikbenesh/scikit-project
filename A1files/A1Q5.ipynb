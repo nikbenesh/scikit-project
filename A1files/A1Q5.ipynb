{
 "cells": [
  {
   "cell_type": "markdown",
   "metadata": {},
   "source": [
    "# CMPT 423/820 \n",
    "## Assignment 1 Question 5\n",
    "* Your Name\n",
    "* Your student number \n",
    "* Your NSID"
   ]
  },
  {
   "cell_type": "markdown",
   "metadata": {},
   "source": [
    "In this question, we'll get acquainted with Pandas DataFrames, methods, indexing, and elementary data visualization."
   ]
  },
  {
   "cell_type": "code",
   "execution_count": 1,
   "metadata": {
    "scrolled": true
   },
   "outputs": [],
   "source": [
    "# this is the conventional import \n",
    "import pandas as pd\n",
    "import matplotlib.pyplot as plt"
   ]
  },
  {
   "cell_type": "markdown",
   "metadata": {},
   "source": [
    "### Task 1\n",
    "There's a datafile named `iris.csv` included with the assignment material.  It's a classical dataset, very well-known (you can Google more information about it if you like -- we're using it to practice with the Pandas module).  The file has 5 columns:\n",
    "* Columns 1-4 are numerical measurements\n",
    "* Column 5 is label, in string form.  There are exactly 3 labels: `setosa`, `versicolor`,`virginica`.  This label would be the output for a classifier built from this data.\n",
    "\n",
    "Use Pandas function `read_csv()` to load the dataset."
   ]
  },
  {
   "cell_type": "code",
   "execution_count": 2,
   "metadata": {
    "scrolled": true
   },
   "outputs": [],
   "source": [
    "# your work here"
   ]
  },
  {
   "cell_type": "markdown",
   "metadata": {},
   "source": [
    "### Task 2\n",
    "The DataFrame class has a vast nummber of methods and functions, which could be of use in one application or another. The easiest ones summarize or visualize the data contained in the dataset.\n",
    "\n",
    "In the cell below, use the `describe()` method to display some summary statistics."
   ]
  },
  {
   "cell_type": "code",
   "execution_count": 3,
   "metadata": {
    "scrolled": true
   },
   "outputs": [],
   "source": [
    "# your work here"
   ]
  },
  {
   "cell_type": "markdown",
   "metadata": {},
   "source": [
    "### Task 3\n",
    "In the cell below, use the `cov()` method to display some more summary statistics.  What do you think this method does?"
   ]
  },
  {
   "cell_type": "code",
   "execution_count": 4,
   "metadata": {
    "scrolled": true
   },
   "outputs": [],
   "source": [
    "# your work here"
   ]
  },
  {
   "cell_type": "markdown",
   "metadata": {},
   "source": [
    "### Task 4\n",
    "Summary statistics are informative, but a picture would be nice.  Pandas has another simple method to help visualize the data, called `hist()`.  Use this method to display histograms for the data."
   ]
  },
  {
   "cell_type": "code",
   "execution_count": 5,
   "metadata": {},
   "outputs": [],
   "source": [
    "# your work here"
   ]
  },
  {
   "cell_type": "markdown",
   "metadata": {},
   "source": [
    "### Task 5\n",
    "In Task 3, we asked Pandas to display covariance information.  Sometimes it's valuable to view data showing pair-wise scatter plots.  Use Pandas' function `scatter_matrix()` to disaply the  dataframe.\n",
    "\n",
    "**Hint:** Notice the histograms along the diagonal!"
   ]
  },
  {
   "cell_type": "code",
   "execution_count": 6,
   "metadata": {
    "scrolled": true
   },
   "outputs": [],
   "source": [
    "# your work here"
   ]
  },
  {
   "cell_type": "markdown",
   "metadata": {},
   "source": [
    "### What to hand in\n",
    "Your version of this notebook named A1Q5.pdf, containing completed work above, and your name and student number at the top."
   ]
  },
  {
   "cell_type": "markdown",
   "metadata": {},
   "source": [
    "### Evaluation:\n",
    "* 1 mark.  For Task 1, you used `read_csv()` to load a datafile into the notebook.\n",
    "* 1 mark.  For Task 2, you used `describe()` to display some information about the DataFrames.\n",
    "* 1 mark.  For Task 3, you used `cov()` to display some covariance information about the dataframe.\n",
    "* 1 mark.  For Task 4, you used `hist()` to display histograms for the dataframe.\n",
    "* 1 mark.  For Task 5, you used `scatter_matrix()` to display visualization of the original dataframe."
   ]
  }
 ],
 "metadata": {
  "kernelspec": {
   "display_name": "Python 3",
   "language": "python",
   "name": "python3"
  },
  "language_info": {
   "codemirror_mode": {
    "name": "ipython",
    "version": 3
   },
   "file_extension": ".py",
   "mimetype": "text/x-python",
   "name": "python",
   "nbconvert_exporter": "python",
   "pygments_lexer": "ipython3",
   "version": "3.7.3"
  }
 },
 "nbformat": 4,
 "nbformat_minor": 2
}

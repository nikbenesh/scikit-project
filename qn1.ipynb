{
 "cells": [
  {
   "cell_type": "markdown",
   "id": "25319def-cb26-4f87-b98f-5bd94b723dd6",
   "metadata": {},
   "source": [
    "## Assignment 2 Question 1"
   ]
  },
  {
   "cell_type": "markdown",
   "id": "7034c29d",
   "metadata": {},
   "source": [
    "Import the libraries required"
   ]
  },
  {
   "cell_type": "code",
   "execution_count": 2,
   "id": "63ac04ba-0098-41ff-9924-6cc3ab671ad3",
   "metadata": {},
   "outputs": [],
   "source": [
    "import sklearn # import sklearn for building the classifier\n",
    "from sklearn import preprocessing\n",
    "from sklearn.naive_bayes import GaussianNB\n",
    "from sklearn.model_selection import train_test_split\n",
    "import matplotlib.pyplot as plt # import matplotlib since I am going to build some plots \n",
    "import pandas as pd"
   ]
  },
  {
   "cell_type": "markdown",
   "id": "1be5477b-4925-4d31-be10-bdebd1089a8c",
   "metadata": {},
   "source": [
    "Set the data file name to be a constant"
   ]
  },
  {
   "cell_type": "code",
   "execution_count": 3,
   "id": "5b6846c8-f02c-47ee-8708-7ee969793808",
   "metadata": {},
   "outputs": [],
   "source": [
    "DATAFILE = \"iris.csv\""
   ]
  },
  {
   "cell_type": "markdown",
   "id": "7ca09fea-6abc-4c96-8590-fbc464051edb",
   "metadata": {},
   "source": [
    "Read the data from the file"
   ]
  },
  {
   "cell_type": "code",
   "execution_count": 4,
   "id": "f51ae87a-f2cc-4d98-b152-5e7033b76704",
   "metadata": {},
   "outputs": [],
   "source": [
    "file = open(DATAFILE, 'r')\n",
    "raw_data = [line.split(',') for line in file]\n",
    "data = [line[:-1] for line in raw_data]\n",
    "results = [line[-1] for line in raw_data]\n",
    "file.close()"
   ]
  },
  {
   "cell_type": "markdown",
   "id": "8519fe4d-ef06-41c7-a454-7d1c10624425",
   "metadata": {},
   "source": [
    "Preprocess the data (convert it into numbers so that the classifier would understand it)"
   ]
  },
  {
   "cell_type": "code",
   "execution_count": 5,
   "id": "71207f33-9c96-452c-8680-1958953e0647",
   "metadata": {},
   "outputs": [],
   "source": [
    "le = preprocessing.LabelEncoder()\n",
    "\n",
    "features_list = [le.fit_transform([data[row][col] for row in range(len(data))]) for col in range(len(data[0]))]\n",
    "united_features = list(zip(*features_list))\n",
    "label = le.fit_transform(results)"
   ]
  },
  {
   "cell_type": "markdown",
   "id": "b0e1f9de-3f83-41c6-8a5d-68ae245a20fc",
   "metadata": {},
   "source": [
    "Calculate accuracy for each feature alone"
   ]
  },
  {
   "cell_type": "code",
   "execution_count": 6,
   "id": "926ee148-9f90-4dc1-a457-7c4a6d38c6cf",
   "metadata": {},
   "outputs": [
    {
     "name": "stdout",
     "output_type": "stream",
     "text": [
      "Accuracy for feature #1: 0.66\n",
      "Accuracy for feature #2: 0.48\n",
      "Accuracy for feature #3: 0.9\n",
      "Accuracy for feature #4: 0.94\n"
     ]
    }
   ],
   "source": [
    "accuracies = [] # Create a list of accuracies so that we could build the plots based on it later.\n",
    "for feature_index, feature in enumerate(features_list):\n",
    "\tgnbc = GaussianNB() # gnbc stands for gaussian naive bayes classifer\n",
    "\tfeature = feature.reshape(-1, 1)\n",
    "\tX_train, X_test, y_train, y_test = train_test_split(feature, label, test_size=0.33) # split train and test data\n",
    "\t# print(*feature, sep='\\n')\n",
    "\tgnbc.fit(X_train, y_train)\n",
    "\tcorrect_cases = 0\n",
    "\tfor i in range(len(X_test)):\n",
    "\t\tres = gnbc.predict([X_test[i]])[0]\n",
    "\t\tif (res == y_test[i]): # if result is correct\n",
    "\t\t\tcorrect_cases += 1\n",
    "\taccuracies.append(correct_cases/len(X_test))\n",
    "\tprint(\"Accuracy for feature #\" + str(feature_index + 1) + \":\", accuracies[feature_index])\n"
   ]
  },
  {
   "cell_type": "markdown",
   "id": "cb1d8652-a641-4738-b418-8446a7c47d5b",
   "metadata": {},
   "source": [
    "Calculate accuracy for all features"
   ]
  },
  {
   "cell_type": "code",
   "execution_count": 12,
   "id": "1ebb4f85-bf41-4db0-92b2-e7a45a998a78",
   "metadata": {},
   "outputs": [
    {
     "name": "stdout",
     "output_type": "stream",
     "text": [
      "Accuracy for all features: 0.94\n"
     ]
    }
   ],
   "source": [
    "X_train, X_test, y_train, y_test = train_test_split(united_features, label, test_size=0.33) # split train and test data\n",
    "gnbc.fit(X_train, y_train)\n",
    "correct_cases = 0\n",
    "for i in range(len(X_test)):\n",
    "    res = gnbc.predict([X_test[i]])[0]\n",
    "    if (res == y_test[i]): # if result is correct\n",
    "        correct_cases += 1\n",
    "accuracies.append(correct_cases/len(X_test))\n",
    "print(\"Accuracy for all features:\", correct_cases/len(X_test))"
   ]
  },
  {
   "cell_type": "markdown",
   "id": "ca7628be-411a-4ef4-b865-093cae15d324",
   "metadata": {},
   "source": [
    "As we can see, the accuracy of the 4-feature classifier is lower than the accuracy of 1-feature classifier for features 3 and 4. "
   ]
  },
  {
   "cell_type": "markdown",
   "id": "81122f8c-5e06-4c1a-a627-76db920ff45b",
   "metadata": {},
   "source": [
    "Build the plot, representing the accuracy of each 1-feature classifier, compared to 4-feature classifier."
   ]
  },
  {
   "cell_type": "code",
   "execution_count": 8,
   "id": "f9784f99-7f17-4829-b85f-fa6145fce2da",
   "metadata": {},
   "outputs": [
    {
     "data": {
      "image/png": "[encoded data removed]",
      "text/plain": [
       "<Figure size 432x288 with 1 Axes>"
      ]
     },
     "metadata": {
      "needs_background": "light"
     },
     "output_type": "display_data"
    }
   ],
   "source": [
    "x = range(len(accuracies))\n",
    "plt.bar(x, height=accuracies)\n",
    "plt.xticks(x, [\"Feature \" + str(i + 1) for i in range(len(features_list))] + [\"All Features\"])\n",
    "plt.ylabel('Accuracies')\n",
    "plt.show()\n"
   ]
  },
  {
   "cell_type": "markdown",
   "id": "359bfaf3-b557-437c-be21-fcf59ac50ea0",
   "metadata": {},
   "source": [
    "On this plot we can see the accuracies for each feature and for all features on y-axis and Features on the x-axis"
   ]
  },
  {
   "cell_type": "markdown",
   "id": "42145c7f-1dc3-4f6e-9d40-1066ff908fa9",
   "metadata": {},
   "source": [
    "Build the density plots for each feature"
   ]
  },
  {
   "cell_type": "code",
   "execution_count": 9,
   "id": "625c43f8-8400-48fb-81f7-936286fb25ed",
   "metadata": {},
   "outputs": [
    {
     "data": {
      "image/png": "[encoded data removed]",
      "text/plain": [
       "<Figure size 432x288 with 1 Axes>"
      ]
     },
     "metadata": {
      "needs_background": "light"
     },
     "output_type": "display_data"
    }
   ],
   "source": [
    "df = pd.read_csv(DATAFILE, header=None)\n",
    "df.columns = ['Feature ' + str(i + 1) for i in range(len(df.columns))]\n",
    "df.plot.density()\n",
    "plt.show()"
   ]
  },
  {
   "cell_type": "markdown",
   "id": "55e33939-2e1e-419c-a8b3-cb35ac811e91",
   "metadata": {},
   "source": [
    "Here we can see that feature 2, which has the lowest density, actually has the highest density. That might be caused by the circumstance that it has the lowest range of all features. Feature 3 has the lowest density, lowest range and highest accuracy. Hence I can supose that the lower is the density of a feature and the higher is its range, the higher is its accuracy."
   ]
  },
  {
   "cell_type": "code",
   "execution_count": 10,
   "id": "51c267ab-bb97-4aaa-839d-e80f63c44197",
   "metadata": {},
   "outputs": [
    {
     "name": "stdout",
     "output_type": "stream",
     "text": [
      "Range of feature 1: 35\n",
      "Range of feature 2: 23\n",
      "Range of feature 3: 43\n",
      "Range of feature 4: 22\n"
     ]
    }
   ],
   "source": [
    "for index, feature in enumerate(features_list):\n",
    "    print(\"Range of feature \" + str(index+1) + \":\", len(set(feature)))"
   ]
  },
  {
   "cell_type": "code",
   "execution_count": null,
   "id": "29b11744",
   "metadata": {},
   "outputs": [],
   "source": []
  }
 ],
 "metadata": {
  "kernelspec": {
   "display_name": "Python 3 (ipykernel)",
   "language": "python",
   "name": "python3"
  },
  "language_info": {
   "codemirror_mode": {
    "name": "ipython",
    "version": 3
   },
   "file_extension": ".py",
   "mimetype": "text/x-python",
   "name": "python",
   "nbconvert_exporter": "python",
   "pygments_lexer": "ipython3",
   "version": "3.9.13"
  }
 },
 "nbformat": 4,
 "nbformat_minor": 5
}

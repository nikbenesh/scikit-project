{
 "cells": [
  {
   "cell_type": "markdown",
   "id": "03a98135-f705-4a06-a88a-745d3cc575f7",
   "metadata": {},
   "source": [
    "# Assignment 2 Question 3"
   ]
  },
  {
   "cell_type": "markdown",
   "id": "fd756865-8c05-40e6-9dbc-7679f5d26aa7",
   "metadata": {},
   "source": [
    "#### Importing the libraries"
   ]
  },
  {
   "cell_type": "code",
   "execution_count": 61,
   "id": "01b213a2-4149-4aca-9566-f08f540c3596",
   "metadata": {},
   "outputs": [],
   "source": [
    "import sklearn # import sklearn for building the classifier\n",
    "from sklearn import preprocessing\n",
    "from sklearn.naive_bayes import GaussianNB\n",
    "from sklearn.model_selection import train_test_split\n",
    "from sklearn.neighbors import KNeighborsClassifier\n",
    "from sklearn.tree import DecisionTreeClassifier\n",
    "from sklearn.metrics import f1_score\n",
    "import pandas as pd\n",
    "import matplotlib.pyplot as plt # import matplotlib since I am going to build some plots "
   ]
  },
  {
   "cell_type": "markdown",
   "id": "96b70ee2-36a1-46b7-96e6-edeea7262ee4",
   "metadata": {},
   "source": [
    "Set the data file name to be a constant"
   ]
  },
  {
   "cell_type": "code",
   "execution_count": 52,
   "id": "d739bd30-fb61-467b-ad5c-1ae070bc1aa2",
   "metadata": {},
   "outputs": [],
   "source": [
    "DATAFILE = \"A2Q2.csv\""
   ]
  },
  {
   "cell_type": "markdown",
   "id": "8ce7aa6f-d6f5-43a6-8721-cc79091e74e2",
   "metadata": {},
   "source": [
    "#### Loading the dataset from file"
   ]
  },
  {
   "cell_type": "code",
   "execution_count": 67,
   "id": "dc7ef8a3-4f94-4736-8944-cd4afd67f63c",
   "metadata": {},
   "outputs": [],
   "source": [
    "df = pd.read_csv(DATAFILE, header=None, index_col=False)\n",
    "data = df.values[:,1:]\n",
    "results = df.values[:,0]\n",
    "X_train, X_test, y_train, y_test = train_test_split(data, results, test_size=0.33)"
   ]
  },
  {
   "cell_type": "markdown",
   "id": "829e2e78-ef60-4bd5-9ce3-2d2ea1696330",
   "metadata": {},
   "source": [
    "Calculate the f1-scores for Naive Bayes Classifier, KNN Classifier and Decision Tree Classifier"
   ]
  },
  {
   "cell_type": "code",
   "execution_count": 68,
   "id": "519ac8f1-a88d-4d05-b72a-1591f76eedd3",
   "metadata": {},
   "outputs": [],
   "source": [
    "gnbc = GaussianNB() # gnbc stands for gaussian naive bayes classifer\n",
    "knnc = KNeighborsClassifier(n_neighbors=3) # I have chosen K to be 3\n",
    "decision_tree_classifier = DecisionTreeClassifier(random_state=0)\n",
    "gnbc.fit(X_train, y_train)\n",
    "knnc.fit(X_train, y_train)\n",
    "decision_tree_classifier.fit(X_train, y_train)\n",
    "accuracies = [\n",
    "    f1_score(y_test, gnbc.predict(X_test), average='micro'), \n",
    "    f1_score(y_test, knnc.predict(X_test), average='micro'),\n",
    "    f1_score(y_test, decision_tree_classifier.predict(X_test), average='micro')]"
   ]
  },
  {
   "cell_type": "markdown",
   "id": "b439a0e8-c36f-4f30-aebb-6fbf36419470",
   "metadata": {},
   "source": [
    "Build the plots, representing the f1-score for each of the classifiers"
   ]
  },
  {
   "cell_type": "code",
   "execution_count": 69,
   "id": "2cb6d7a9-689a-4bd8-8609-81c9d6235484",
   "metadata": {},
   "outputs": [
    {
     "data": {
      "image/png": "[encoded data removed]",
      "text/plain": [
       "<Figure size 432x288 with 1 Axes>"
      ]
     },
     "metadata": {
      "needs_background": "light"
     },
     "output_type": "display_data"
    },
    {
     "name": "stdout",
     "output_type": "stream",
     "text": [
      "0.9491525423728814\t0.6610169491525424\t0.9322033898305084\n"
     ]
    }
   ],
   "source": [
    "x = range(len(accuracies))\n",
    "plt.bar(x, height=accuracies)\n",
    "plt.xticks(x, ['Naive Bayes Classifier', 'KNN classifier', 'Decision Tree classifier'])\n",
    "plt.ylabel('Accuracies')\n",
    "plt.show()\n",
    "print(*accuracies, sep='\\t')\n"
   ]
  },
  {
   "cell_type": "markdown",
   "id": "ddf9b2d1-e003-433a-82d1-e998753ee17e",
   "metadata": {},
   "source": [
    "### Classifiers' performance analysis"
   ]
  },
  {
   "cell_type": "markdown",
   "id": "78764b47-63ce-45f8-b9f6-1af79a3c06ea",
   "metadata": {},
   "source": [
    "#### KNN classifier"
   ]
  },
  {
   "cell_type": "markdown",
   "id": "e6d7e589-70b3-48fb-9021-a28d34fd5670",
   "metadata": {},
   "source": [
    "From the above plot, we can clearly see that KNN has the worst performance amongst all three classifiers. This happens because the dataset has 13 elements and KNN cannot handle such a number of dimensions as good, as it can handle 2,3, or 5 dimensions. In a 13-dimensional space the distances between neighbors become very similar and therefore it is hard to distinguish the closest and far neighbors."
   ]
  },
  {
   "cell_type": "markdown",
   "id": "fd153c49-61be-4611-8f1e-e7cbcb0bf602",
   "metadata": {},
   "source": [
    "#### Decision tree classifier"
   ]
  },
  {
   "cell_type": "markdown",
   "id": "b3b06d55-d775-44d6-a42b-6c2422d0ee1c",
   "metadata": {},
   "source": [
    "From the above plot we can also observe that the decision tree classifier has the second best performance. The reason for this is that when selecting a feature to be splitted, dt chooses the best one and ignores the other best feature. Hence it might lose a certain amount of information, while categorizing features."
   ]
  },
  {
   "cell_type": "markdown",
   "id": "67581a07-f686-4418-abc2-8ebd1a5dfdbb",
   "metadata": {},
   "source": [
    "#### Naive Bayes Classifier"
   ]
  },
  {
   "cell_type": "markdown",
   "id": "41a01a94-0b52-459b-9efa-5afa1ab837d0",
   "metadata": {},
   "source": [
    "On the plot above it is shown that Naive Bayes classifier gives the highest performance amogst all. The explaination for it is that this classifier expects all elements to be free from one another. It works astonishingly well on small datasets like this one and therefore I would choose it, if I were to choose one classifier. "
   ]
  }
 ],
 "metadata": {
  "kernelspec": {
   "display_name": "Python 3 (ipykernel)",
   "language": "python",
   "name": "python3"
  },
  "language_info": {
   "codemirror_mode": {
    "name": "ipython",
    "version": 3
   },
   "file_extension": ".py",
   "mimetype": "text/x-python",
   "name": "python",
   "nbconvert_exporter": "python",
   "pygments_lexer": "ipython3",
   "version": "3.9.13"
  }
 },
 "nbformat": 4,
 "nbformat_minor": 5
}

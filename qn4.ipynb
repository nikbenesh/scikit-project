{
 "cells": [
  {
   "cell_type": "markdown",
   "id": "ddcb69d7-fb11-48d1-b0ad-8e67546ebf19",
   "metadata": {},
   "source": [
    "## Assignment 2 Question 4"
   ]
  },
  {
   "cell_type": "markdown",
   "id": "7b2a6d5e-cf37-4b8c-9032-5797beca7205",
   "metadata": {},
   "source": [
    "The Bayes rule is:\n",
    "$$\n",
    "P(\\mu|x) = \\frac{P(\\mu) \\cdot P(x|\\mu)}{P(x)}\n",
    "$$"
   ]
  },
  {
   "cell_type": "markdown",
   "id": "d71c626e-e91e-4ca8-84a6-2241f53563ad",
   "metadata": {},
   "source": [
    "Here the posterior probability is $P(\\mu|x)$ and the prior probability is $P(\\mu)$. If we consider $x_1$ as observed data, we can find the probability of $P(\\mu|x_1)$ the following way:\n",
    "$$\n",
    "P(\\mu|x_1) = \\frac{P(\\mu) \\cdot P(x_1|\\mu)}{P(x_1)}\n",
    "$$"
   ]
  },
  {
   "cell_type": "markdown",
   "id": "1d8d6864-3419-4317-83fa-f3127f3c7153",
   "metadata": {},
   "source": [
    "If we want to find posterior probability $P(\\mu|x_1, x_2)$ based on onserved data $x_1, x_2$ with $P(\\mu|x_1)$ as prior probability, then we can write the following expression down:\n",
    "$$\n",
    "P(\\mu|x_1, x_2) = \\frac{P(\\mu) \\cdot P(x_1, x_2|\\mu)}{P(x_1, x_2)}\n",
    "$$"
   ]
  },
  {
   "cell_type": "markdown",
   "id": "ce38b91c-5082-4a24-bbd7-bb5e5d17efad",
   "metadata": {},
   "source": [
    "Since $x_1, x_2$ are conditionally independent, we can write two equations for them:\n",
    "$$\n",
    "P(x_1, x_2|\\mu) = P(x_1|\\mu) \\cdot P(x_2|\\mu)\n",
    "$$\n",
    "$$\n",
    "P(x_1, x_2) = P(x_1) \\cdot P(x_2)\n",
    "$$"
   ]
  },
  {
   "cell_type": "markdown",
   "id": "d415af00-02a8-4a00-8077-afb2db8e3d27",
   "metadata": {},
   "source": [
    "If we plug these two equation into our initial formula for $P(\\mu|x_1, x_2)$, we will get the following:\n",
    "$$\n",
    "P(\\mu|x_1, x_2) = \\frac{P(\\mu) \\cdot P(x_1|\\mu) \\cdot P(x_2|\\mu)}{P(x_1) \\cdot P(x_2)}\n",
    "$$"
   ]
  },
  {
   "cell_type": "markdown",
   "id": "a12b41e2-ac4e-4d35-a4d5-963b51b614a0",
   "metadata": {},
   "source": [
    "If we replace $P(x_1|\\mu)$ by its formula, we get:\n",
    "$$\n",
    "P(\\mu|x_1, x_2) = \\frac{P(\\mu) \\cdot P(\\mu|x_1) \\cdot P(x_1) \\cdot P(x_2|\\mu)}{P(x_1) \\cdot P(x_2) \\cdot P(\\mu)}\n",
    "$$"
   ]
  },
  {
   "cell_type": "markdown",
   "id": "34d76154-b57c-4524-9d75-eb8654306ca2",
   "metadata": {},
   "source": [
    "Here $P(\\mu)$ and $P(x_1)$ cancel out and we get:\n",
    "$$\n",
    "P(\\mu|x_1, x_2) = \\frac{P(\\mu|x_1) \\cdot P(x_2|\\mu)}{P(x_2)}\n",
    "$$"
   ]
  },
  {
   "cell_type": "markdown",
   "id": "fc155ce2-6ca3-4c4a-b61a-67b14d6aac40",
   "metadata": {},
   "source": [
    "In this equation $P(\\mu|x_1, x_2)$ is posterior probability, $P(\\mu|x_1)$ is prior probability, $P(x_2|\\mu)$ is likelihood and $P(x_2)$ is a normalizing constant."
   ]
  }
 ],
 "metadata": {
  "kernelspec": {
   "display_name": "Python 3 (ipykernel)",
   "language": "python",
   "name": "python3"
  },
  "language_info": {
   "codemirror_mode": {
    "name": "ipython",
    "version": 3
   },
   "file_extension": ".py",
   "mimetype": "text/x-python",
   "name": "python",
   "nbconvert_exporter": "python",
   "pygments_lexer": "ipython3",
   "version": "3.9.13"
  }
 },
 "nbformat": 4,
 "nbformat_minor": 5
}
